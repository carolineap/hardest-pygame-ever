{
 "cells": [
  {
   "cell_type": "markdown",
   "metadata": {},
   "source": [
    "# The World's Hardest Game\n",
    "\n",
    "Esse projeto realizou a implementação de um algoritmo genético para resolução da primeira fase do jogo [\"The World's Hardest Game (WGH)\"](https://www.coolmathgames.com/0-worlds-hardest-game), produzido pelo Flash Game Studio. O jogo é composto por um jogador que tem como objetivo sair de uma área inicial e chegar em uma área final sem que colida com algum dos inimigos que realizam movimentos repetidamente na área central. Especificamente, a primeira fase é composta por quatro inimigos que realizam movimentos em relação ao eixo x, como mostra a Figura abaixo:"
   ]
  },
  {
   "cell_type": "markdown",
   "metadata": {},
   "source": [
    "<img src=\"figs/whg-f1.jpg\" alt=\"whg\"/>\n",
    "<center>Figura 1 - The World's Hardest Game.</center>"
   ]
  },
  {
   "cell_type": "markdown",
   "metadata": {},
   "source": [
    "##### Implementação\n",
    "\n",
    "Todo o projeto foi implementado em Python. O jogo foi implementado através da biblioteca Pygame. Todo código desenvolvido está disponível no [GitHub](https://github.com/gabrielpreviato/hardest-pygame-ever), assim como as instruções para execução do jogo e do algoritmo genético."
   ]
  },
  {
   "cell_type": "markdown",
   "metadata": {},
   "source": [
    "## Modelagem\n",
    "\n",
    "#### Cromossomo:\n",
    "\n",
    "Cada cromossomo representa a sequência de ações realizadas por um indíviduo. Assim como no jogo original, cada indivíduo pode realizar oito ações diferentes: ir para cima, para baixo, para direita, para esquerda e para qualquer uma das quatro diagonais. O tamanho do cromossomo é extendido iterativamente, conforme o indivíduo vai se afastando da área inicial. Cada uma das ações pode ser repetida um número entre $1$ e metade do tamanho do cromossomo."
   ]
  },
  {
   "cell_type": "markdown",
   "metadata": {},
   "source": [
    "### Fitness Function\n",
    "\n",
    "A implementação da função fitness requeriu a criação de dois pontos na área inicial e final do jogo, como indica a Figura. O jogador começa o jogo no centro da área inicial (área verde a esquerda), deve ir até a área principal do jogo (área em cinza), e chegar na área final (área verde a direita). A função fitness do indivíduo $i$ é dada pela seguinte expressão:\n",
    "\n",
    "$ f(i) = best\\_position(i) + n\\_actions(i) + poison(i) $, tal que:\n",
    "\n",
    "- $ best\\_position(i) $ corresponde a menor distância $dist(i)$ que o jogador ficou do objetivo durante uma sequência de ações. A distância $dist(i)$ é calculada da seguinte forma:\n",
    "\n",
    "    - distância euclidiana entre a posição atual do jogador + distância do ponto de início até o ponto final, se jogador está na área inicial;\n",
    "    - distância euclidiana entre a posição atual do jogador e o ponto final, se o jogador está na área principal;\n",
    "    - zero, caso o jogador esteja na área final.\n",
    "    \n",
    "- $ n\\_actions $ corresponde ao índice da ação na sequência de ações que resultou na melhor posição $best\\_position(i)$, isto é, o número de ações que o indivíduo realizou para chegar na melhor posição.\n",
    "    \n",
    "- $ poison(i) $ é um parâmetro que indica por quantas ações o jogador ficou na área inicial (área envenenada). Inicialmente, $poison(i) = 0$, e a cada movimento realizado que faz que a posição resultante do jogador esteja na área inicial, $poison(i)$ é incrementado em um. Similarmente, a cada movimento realizado que faz a posição resultante do jogador esteja em uma área que não a inicial, $poison(i)$ é decrementado em um.\n",
    "\n",
    "Tanto o cálculo da distância utilizada para se obter o valor do $best\\_position(i)$ quanto o parâmetro $poison(i)$ têm como objetivo fazer o indivíduo ir rapidamente para a área principal do jogo e evitar que se movimentem por muito tempo dentro da área inicial."
   ]
  },
  {
   "cell_type": "markdown",
   "metadata": {},
   "source": [
    "<img src=\"figs/whg.png\" alt=\"whg\"/>\n",
    "<center>Figura 2: Áreas e pontos criados para a simulação do jogo e execução do algoritmo genético.</center>"
   ]
  },
  {
   "cell_type": "markdown",
   "metadata": {},
   "source": [
    "### Testes Realizados\n",
    "\n",
    "Os experimentos foram baseados em duas simulações principais, descritas abaixo:\n",
    "\n",
    "#### Simulação 1:\n",
    "- Critério de parada dado pelo número de gerações (no máximo $500$ gerações) ou até que $50\\%$ da população vença o jogo.\n",
    "- Crossover single-point, tal que o ponto do crossover entre dois indivíduos $i, j$ é calculado como o valor mínimo entre $n\\_actions(i)$ e $n\\_actions(j)$. É válido ressaltar que, como a ordem das ações interfere na solução, o crossover mantém a sequência do cromossomo até o ponto do crossover escolhido e troca a sequência do cromossomo a partir de tal ponto entre os dois indivíduos.\n",
    "- A mutação é realizada alterando uma sequência de ações a partir de um ponto $x$ do cromossomo com uma ação escolhida de forma aleatória. O ponto de mutação é escolhido aleatóriamente de forma próxima (igual ou menor) ao ponto $n\\_actions(i)$, tal que $i$ é o indivíduo pai daquele cromossomo.\n",
    "- Tamanho inicial do cromossomo igual a 15 e extendido em 10 ações a cada cinco gerações ou até que o melhor indivíduo $i$ possua $n\\_actions(i)$ igual ao tamanho atual do cromossomo, ou seja, a realização da sequência completa de ações do cromossomo levou o melhor indivíduo a melhor posição (o melhor indivíduo é o indíviduo $i$ com a melhor $best\\_position(i)$ de uma determinada geração).\n",
    "- A seleção de indivíduos foi realizada de duas formas:\n",
    "    - Método 1: Seleção aleatória com pesos $p$ para cada indíviduo $i$, tal que $p(i) = fitness(i)/fitness\\_total\\_população$;\n",
    "    - Método 2: Roullete;\n",
    "- Cenário 1:\n",
    "    - Substituição da população com o método Steady State, tal que, $30\\%$ da população é selecionada para realizar o crossover e criar novos indíviduos e $70\\%$ da população são clones de seus pais. Ambas as seleções são realizadas pelo método 1. Nesse cenário, os $70\\%$ dos indivíduos que foram gerados a partir de clonagem sofrem mutação.\n",
    "- Cenário 2:\n",
    "    - A nova geração é completamente gerada a partir de clonagem de seus pais. Cada pai é selecionado através do método 2. Nesse cenário todos os indivíduos sofrem mutação.\n",
    "    \n",
    "\n",
    "    \n",
    "#### Simulação 2:\n",
    "\n"
   ]
  },
  {
   "cell_type": "markdown",
   "metadata": {},
   "source": [
    "## Análises"
   ]
  },
  {
   "cell_type": "markdown",
   "metadata": {},
   "source": []
  },
  {
   "cell_type": "markdown",
   "metadata": {},
   "source": [
    "## Conclusão"
   ]
  },
  {
   "cell_type": "markdown",
   "metadata": {},
   "source": []
  }
 ],
 "metadata": {
  "kernelspec": {
   "display_name": "Python 3",
   "language": "python",
   "name": "python3"
  },
  "language_info": {
   "codemirror_mode": {
    "name": "ipython",
    "version": 3
   },
   "file_extension": ".py",
   "mimetype": "text/x-python",
   "name": "python",
   "nbconvert_exporter": "python",
   "pygments_lexer": "ipython3",
   "version": "3.6.9"
  }
 },
 "nbformat": 4,
 "nbformat_minor": 4
}
